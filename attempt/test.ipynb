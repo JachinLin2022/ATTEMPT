{
 "cells": [
  {
   "cell_type": "code",
   "execution_count": 30,
   "metadata": {},
   "outputs": [
    {
     "name": "stderr",
     "output_type": "stream",
     "text": [
      "Reusing dataset glue (/root/.cache/huggingface/datasets/glue/mrpc/1.0.0/dacbe3125aa31d7f70367a07a8a9e72a5a0bfeb5fc42e75c9db75b96da6053ad)\n"
     ]
    }
   ],
   "source": [
    "from datasets import load_dataset\n",
    "mrpc = load_dataset('glue', 'mrpc',split='test')\n"
   ]
  },
  {
   "cell_type": "code",
   "execution_count": 31,
   "metadata": {},
   "outputs": [
    {
     "name": "stdout",
     "output_type": "stream",
     "text": [
      "['not_equivalent', 'equivalent']\n"
     ]
    }
   ],
   "source": [
    "from datasets import ClassLabel\n",
    "for key in mrpc.features:\n",
    "    if isinstance(mrpc.features[key],ClassLabel):\n",
    "        print(mrpc.features[key].names)\n",
    "# mrpc[0]['label'].names"
   ]
  },
  {
   "cell_type": "code",
   "execution_count": 39,
   "metadata": {},
   "outputs": [
    {
     "name": "stdout",
     "output_type": "stream",
     "text": [
      "True\n"
     ]
    }
   ],
   "source": [
    "import torch\n",
    "test = torch.load('/mlx_devbox/users/linzhisheng.2021/ATTEMPT/attempt/result/stage1/mnli_fp32/task_embedding.pt', map_location=torch.device('cpu'))\n",
    "input = torch.rand(44,768)\n",
    "\n",
    "x = torch.rand(128,44,768)\n",
    "print(x.shape[1] > 32)\n",
    "# print(x[:,0,:].unsqueeze(1))\n",
    "# print(x[:,:1,:])\n",
    "\n",
    "\n",
    "# task_list = torch.nn.ParameterList()\n",
    "# task_list.append(test['task_shared'])\n",
    "# task_list.append(test['task_shared'])\n",
    "# task_list\n",
    "\n",
    "# attention_embedding = torch.zeros_like(input)\n",
    "# for embedding in task_list:\n",
    "#     # print(embedding)\n",
    "#     dot = torch.matmul(input, embedding.transpose(0,1))\n",
    "#     prob = torch.nn.functional.softmax(dot,dim=-1)\n",
    "#     o = torch.matmul(prob, embedding)\n",
    "#     attention_embedding = attention_embedding + o\n",
    "\n",
    "\n",
    "# test['decoder.block.11.layer.2.DenseReluDense.wo.lora_B']"
   ]
  },
  {
   "cell_type": "code",
   "execution_count": 3,
   "metadata": {},
   "outputs": [
    {
     "name": "stdout",
     "output_type": "stream",
     "text": [
      "tensor([[  0.6041,  -7.1097,   6.5655,  -3.0846],\n",
      "        [ -4.7148,   5.2828,   4.3676,  -2.3006],\n",
      "        [-10.4563,   1.5535,   7.8542,   7.6495]])\n",
      "tensor([[ 0.2704, -1.2629,  1.4553, -0.4628],\n",
      "        [-1.2598,  1.0841,  0.8696, -0.6938],\n",
      "        [-1.6285, -0.0130,  0.8345,  0.8070]],\n",
      "       grad_fn=<NativeLayerNormBackward0>)\n"
     ]
    },
    {
     "data": {
      "text/plain": [
       "1701"
      ]
     },
     "execution_count": 3,
     "metadata": {},
     "output_type": "execute_result"
    }
   ],
   "source": [
    "import torch.nn as nn\n",
    "import torch\n",
    "import numpy as np\n",
    "# t1= nn.Parameter(torch.zeros((64, 768)))\n",
    "# t2= nn.Parameter(torch.zeros((64, 768)))\n",
    "x = torch.randn(3,127)\n",
    "t1 = torch.randn(127,4)\n",
    "t2 = torch.randn(127,4)\n",
    "# a = torch.nn.functional.cosine_similarity(t1.flatten(),t2.flatten(),dim=0)\n",
    "print(x@t1)\n",
    "\n",
    "print(nn.LayerNorm(4)(x@t1))\n",
    "# print(x@t2)\n",
    "\n",
    "\n",
    "t = np.random.permutation(range(5000))\n",
    "t[4999]"
   ]
  },
  {
   "cell_type": "code",
   "execution_count": 5,
   "metadata": {},
   "outputs": [
    {
     "name": "stderr",
     "output_type": "stream",
     "text": [
      "/root/miniconda3/envs/attempt_env/lib/python3.8/site-packages/numpy/lib/arraysetops.py:608: FutureWarning: elementwise comparison failed; returning scalar instead, but in the future will perform elementwise comparison\n",
      "  mask &= (ar1 != a)\n",
      "/root/miniconda3/envs/attempt_env/lib/python3.8/site-packages/scikit_learn-0.24.2-py3.8-linux-x86_64.egg/sklearn/metrics/_classification.py:1495: UndefinedMetricWarning: F-score is ill-defined and being set to 0.0 due to no true nor predicted samples. Use `zero_division` parameter to control this behavior.\n",
      "  _warn_prf(\n"
     ]
    },
    {
     "data": {
      "text/plain": [
       "0.0"
      ]
     },
     "execution_count": 5,
     "metadata": {},
     "output_type": "execute_result"
    }
   ],
   "source": [
    "import sklearn\n",
    "import sklearn.metrics\n",
    "t1 = ['asd']\n",
    "t2 = ['asd']\n",
    "sklearn.metrics.f1_score(t1,t2)"
   ]
  },
  {
   "cell_type": "code",
   "execution_count": 8,
   "metadata": {},
   "outputs": [
    {
     "name": "stdout",
     "output_type": "stream",
     "text": [
      "torch.Size([4, 12, 6])\n",
      "tensor([[[1.0000e+09, 0.0000e+00, 0.0000e+00, 0.0000e+00, 0.0000e+00,\n",
      "          0.0000e+00],\n",
      "         [1.0000e+09, 0.0000e+00, 0.0000e+00, 0.0000e+00, 0.0000e+00,\n",
      "          0.0000e+00],\n",
      "         [1.0000e+09, 0.0000e+00, 0.0000e+00, 0.0000e+00, 0.0000e+00,\n",
      "          0.0000e+00],\n",
      "         [1.0000e+09, 0.0000e+00, 0.0000e+00, 0.0000e+00, 0.0000e+00,\n",
      "          0.0000e+00],\n",
      "         [1.0000e+09, 0.0000e+00, 0.0000e+00, 0.0000e+00, 0.0000e+00,\n",
      "          0.0000e+00],\n",
      "         [1.0000e+09, 0.0000e+00, 0.0000e+00, 0.0000e+00, 0.0000e+00,\n",
      "          0.0000e+00],\n",
      "         [1.0000e+09, 0.0000e+00, 0.0000e+00, 0.0000e+00, 0.0000e+00,\n",
      "          0.0000e+00],\n",
      "         [1.0000e+09, 0.0000e+00, 0.0000e+00, 0.0000e+00, 0.0000e+00,\n",
      "          0.0000e+00],\n",
      "         [1.0000e+09, 0.0000e+00, 0.0000e+00, 0.0000e+00, 0.0000e+00,\n",
      "          0.0000e+00],\n",
      "         [1.0000e+09, 0.0000e+00, 0.0000e+00, 0.0000e+00, 0.0000e+00,\n",
      "          0.0000e+00],\n",
      "         [1.0000e+09, 0.0000e+00, 0.0000e+00, 0.0000e+00, 0.0000e+00,\n",
      "          0.0000e+00],\n",
      "         [1.0000e+09, 0.0000e+00, 0.0000e+00, 0.0000e+00, 0.0000e+00,\n",
      "          0.0000e+00]],\n",
      "\n",
      "        [[1.0000e+09, 0.0000e+00, 0.0000e+00, 0.0000e+00, 0.0000e+00,\n",
      "          0.0000e+00],\n",
      "         [1.0000e+09, 0.0000e+00, 0.0000e+00, 0.0000e+00, 0.0000e+00,\n",
      "          0.0000e+00],\n",
      "         [1.0000e+09, 0.0000e+00, 0.0000e+00, 0.0000e+00, 0.0000e+00,\n",
      "          0.0000e+00],\n",
      "         [1.0000e+09, 0.0000e+00, 0.0000e+00, 0.0000e+00, 0.0000e+00,\n",
      "          0.0000e+00],\n",
      "         [1.0000e+09, 0.0000e+00, 0.0000e+00, 0.0000e+00, 0.0000e+00,\n",
      "          0.0000e+00],\n",
      "         [1.0000e+09, 0.0000e+00, 0.0000e+00, 0.0000e+00, 0.0000e+00,\n",
      "          0.0000e+00],\n",
      "         [1.0000e+09, 0.0000e+00, 0.0000e+00, 0.0000e+00, 0.0000e+00,\n",
      "          0.0000e+00],\n",
      "         [1.0000e+09, 0.0000e+00, 0.0000e+00, 0.0000e+00, 0.0000e+00,\n",
      "          0.0000e+00],\n",
      "         [1.0000e+09, 0.0000e+00, 0.0000e+00, 0.0000e+00, 0.0000e+00,\n",
      "          0.0000e+00],\n",
      "         [1.0000e+09, 0.0000e+00, 0.0000e+00, 0.0000e+00, 0.0000e+00,\n",
      "          0.0000e+00],\n",
      "         [1.0000e+09, 0.0000e+00, 0.0000e+00, 0.0000e+00, 0.0000e+00,\n",
      "          0.0000e+00],\n",
      "         [1.0000e+09, 0.0000e+00, 0.0000e+00, 0.0000e+00, 0.0000e+00,\n",
      "          0.0000e+00]],\n",
      "\n",
      "        [[1.0000e+09, 0.0000e+00, 0.0000e+00, 0.0000e+00, 0.0000e+00,\n",
      "          0.0000e+00],\n",
      "         [1.0000e+09, 0.0000e+00, 0.0000e+00, 0.0000e+00, 0.0000e+00,\n",
      "          0.0000e+00],\n",
      "         [1.0000e+09, 0.0000e+00, 0.0000e+00, 0.0000e+00, 0.0000e+00,\n",
      "          0.0000e+00],\n",
      "         [1.0000e+09, 0.0000e+00, 0.0000e+00, 0.0000e+00, 0.0000e+00,\n",
      "          0.0000e+00],\n",
      "         [1.0000e+09, 0.0000e+00, 0.0000e+00, 0.0000e+00, 0.0000e+00,\n",
      "          0.0000e+00],\n",
      "         [1.0000e+09, 0.0000e+00, 0.0000e+00, 0.0000e+00, 0.0000e+00,\n",
      "          0.0000e+00],\n",
      "         [1.0000e+09, 0.0000e+00, 0.0000e+00, 0.0000e+00, 0.0000e+00,\n",
      "          0.0000e+00],\n",
      "         [1.0000e+09, 0.0000e+00, 0.0000e+00, 0.0000e+00, 0.0000e+00,\n",
      "          0.0000e+00],\n",
      "         [1.0000e+09, 0.0000e+00, 0.0000e+00, 0.0000e+00, 0.0000e+00,\n",
      "          0.0000e+00],\n",
      "         [1.0000e+09, 0.0000e+00, 0.0000e+00, 0.0000e+00, 0.0000e+00,\n",
      "          0.0000e+00],\n",
      "         [1.0000e+09, 0.0000e+00, 0.0000e+00, 0.0000e+00, 0.0000e+00,\n",
      "          0.0000e+00],\n",
      "         [1.0000e+09, 0.0000e+00, 0.0000e+00, 0.0000e+00, 0.0000e+00,\n",
      "          0.0000e+00]],\n",
      "\n",
      "        [[1.0000e+09, 0.0000e+00, 0.0000e+00, 0.0000e+00, 0.0000e+00,\n",
      "          0.0000e+00],\n",
      "         [1.0000e+09, 0.0000e+00, 0.0000e+00, 0.0000e+00, 0.0000e+00,\n",
      "          0.0000e+00],\n",
      "         [1.0000e+09, 0.0000e+00, 0.0000e+00, 0.0000e+00, 0.0000e+00,\n",
      "          0.0000e+00],\n",
      "         [1.0000e+09, 0.0000e+00, 0.0000e+00, 0.0000e+00, 0.0000e+00,\n",
      "          0.0000e+00],\n",
      "         [1.0000e+09, 0.0000e+00, 0.0000e+00, 0.0000e+00, 0.0000e+00,\n",
      "          0.0000e+00],\n",
      "         [1.0000e+09, 0.0000e+00, 0.0000e+00, 0.0000e+00, 0.0000e+00,\n",
      "          0.0000e+00],\n",
      "         [1.0000e+09, 0.0000e+00, 0.0000e+00, 0.0000e+00, 0.0000e+00,\n",
      "          0.0000e+00],\n",
      "         [1.0000e+09, 0.0000e+00, 0.0000e+00, 0.0000e+00, 0.0000e+00,\n",
      "          0.0000e+00],\n",
      "         [1.0000e+09, 0.0000e+00, 0.0000e+00, 0.0000e+00, 0.0000e+00,\n",
      "          0.0000e+00],\n",
      "         [1.0000e+09, 0.0000e+00, 0.0000e+00, 0.0000e+00, 0.0000e+00,\n",
      "          0.0000e+00],\n",
      "         [1.0000e+09, 0.0000e+00, 0.0000e+00, 0.0000e+00, 0.0000e+00,\n",
      "          0.0000e+00],\n",
      "         [1.0000e+09, 0.0000e+00, 0.0000e+00, 0.0000e+00, 0.0000e+00,\n",
      "          0.0000e+00]]], grad_fn=<CopySlices>)\n"
     ]
    },
    {
     "data": {
      "text/plain": [
       "tensor([[-38.0970, -10.4717, -60.2004, -17.5134,  26.7224, -25.1057],\n",
       "        [ 17.2692,  29.1443, -34.3721,   9.5295,  -6.5533,  15.3158],\n",
       "        [ 10.8645, -16.4372,  13.4175, -14.6265, -26.2576,  -8.9261],\n",
       "        [-26.7573,   4.3462, -19.2858,  29.9002, -34.1080, -23.1021]],\n",
       "       grad_fn=<AddBackward0>)"
      ]
     },
     "execution_count": 8,
     "metadata": {},
     "output_type": "execute_result"
    }
   ],
   "source": [
    "import torch\n",
    "from torch.nn.functional import softmax\n",
    "\n",
    "x = torch.randn(4,12,768)\n",
    "gate_x = x[:,0,:]\n",
    "w = torch.nn.Parameter(torch.randn(768, 6))\n",
    "\n",
    "test = x@w\n",
    "\n",
    "test[:,:,0] = test[:,:,0] + 999999999\n",
    "test[:,:,1:] = 0\n",
    "print(test.shape)\n",
    "print(test)\n",
    "\n",
    "\n",
    "w_noise = torch.nn.Parameter(torch.randn(768, 6))\n",
    "softplus = torch.nn.Softplus()\n",
    "softmax = torch.nn.Softmax(1)\n",
    "\n",
    "noise_epsilon = 1e-2\n",
    "\n",
    "\n",
    "\n",
    "\n",
    "clean_logits = gate_x@w\n",
    "\n",
    "\n",
    "\n",
    "raw_noise_stddev = gate_x @ w_noise\n",
    "noise_stddev = ((softplus(raw_noise_stddev) + noise_epsilon))\n",
    "noisy_logits = clean_logits + (torch.randn_like(clean_logits) * noise_stddev)\n",
    "\n",
    "\n",
    "\n",
    "logits = noisy_logits\n",
    "\n",
    "logits\n",
    "\n",
    "\n",
    "\n",
    "\n",
    "# logits = logits.sum(0)\n",
    "# print(logits)\n",
    "# logits = torch.nn.functional.softmax(logits)\n",
    "# print(logits)\n",
    "\n",
    "# print(torch.argmax(logits))\n",
    "# k=4\n",
    "# num_experts=6\n",
    "# top_logits, top_indices = logits.topk(min(k + 1, num_experts), dim=1)\n",
    "# top_k_logits = top_logits[:, :k]\n",
    "# top_k_indices = top_indices[:, :k]\n",
    "\n",
    "# top_k_gates = softmax(top_k_logits)\n",
    "# # print(top_k_indices)\n",
    "\n",
    "\n",
    "\n",
    "# zeros = torch.zeros_like(logits, requires_grad=True)\n",
    "# gates = zeros.scatter(1, top_k_indices, top_k_gates)\n",
    "# load = (gates>0).sum(0)\n",
    "# # print(gates)\n",
    "# # load\n",
    "# # (output>0).sum(0)\n",
    "\n",
    "\n",
    "\n",
    "# dispatcher = SparseDispatcher(num_experts, gates)\n",
    "\n",
    "# expert_inputs = dispatcher.dispatch(x)"
   ]
  },
  {
   "cell_type": "code",
   "execution_count": 7,
   "metadata": {},
   "outputs": [
    {
     "name": "stdout",
     "output_type": "stream",
     "text": [
      "torch.Size([16, 1, 768])\n"
     ]
    }
   ],
   "source": [
    "import torch\n",
    "x = torch.randn(16,5,768)\n",
    "x = x.sum(dim=1)\n",
    "# x = x[:,0,:]\n",
    "x = x.unsqueeze(1)\n",
    "print(x.shape)\n",
    "# res = []\n",
    "# res.append(torch.randn(5,5,768))\n",
    "# res.append(torch.randn(5,5,768))\n",
    "# xx = torch.randn(5,1,2)\n",
    "\n",
    "# max_index = torch.argmax(xx,dim=2)\n",
    "# print(xx)\n",
    "# print(max_index)\n",
    "\n",
    "# result = torch.zeros_like(xx)\n",
    "# result.scatter_(2, max_index.unsqueeze(2), 1)\n",
    "# print(result)\n",
    "\n",
    "# xx[:,:,0] = 999999999\n",
    "# xx[:,:,1:] = 0\n",
    "\n",
    "# t = torch.nn.Softmax(dim=-1)\n",
    "# # x.shape\n",
    "# print(xx)\n",
    "\n",
    "# gg = t(xx).unsqueeze(3)\n",
    "\n",
    "\n",
    "# print(gg.shape)\n",
    "# output = torch.stack(res,dim=3) @ gg\n",
    "# output = output.squeeze()\n",
    "# print(res[0][0,0,0])\n",
    "# print(res[1][0,0,0])\n",
    "# print(output[0,0,0])\n",
    "# print(output)\n",
    "# print(gg.shape)\n",
    "# print(torch.stack(res,dim=3).shape)"
   ]
  },
  {
   "cell_type": "code",
   "execution_count": 8,
   "metadata": {},
   "outputs": [
    {
     "data": {
      "text/plain": [
       "1"
      ]
     },
     "execution_count": 8,
     "metadata": {},
     "output_type": "execute_result"
    }
   ],
   "source": [
    "from transformers import (\n",
    "    AutoTokenizer,\n",
    ")\n",
    "\n",
    "tokenizer = AutoTokenizer.from_pretrained('t5-base')\n",
    "tokenizer.add_special_tokens({'sep_token':'<eot>'})"
   ]
  },
  {
   "cell_type": "code",
   "execution_count": 29,
   "metadata": {},
   "outputs": [
    {
     "name": "stdout",
     "output_type": "stream",
     "text": [
      "{'input_ids': [9246, 3, 9, 822, 11, 3, 9, 2625, 7142, 6, 8, 2491, 19, 12, 2082, 823, 8, 2625, 7142, 2579, 8, 1525, 12, 8, 822, 5, 1], 'attention_mask': [1, 1, 1, 1, 1, 1, 1, 1, 1, 1, 1, 1, 1, 1, 1, 1, 1, 1, 1, 1, 1, 1, 1, 1, 1, 1, 1]}\n",
      "27\n"
     ]
    }
   ],
   "source": [
    "model_inputs = tokenizer(\"Given a question and a context sentence, the task is to determine whether the context sentence contains the answer to the question.\")\n",
    "\n",
    "print(model_inputs)\n",
    "print(len(model_inputs['input_ids']))\n",
    "\n",
    "# model_inputs = tokenizer(\"sentence:I love you!\", max_length=128,\n",
    "#                                  padding=True, truncation=True)\n",
    "# model_inputs\n",
    "# tokenizer.sep_token_id\n"
   ]
  },
  {
   "cell_type": "code",
   "execution_count": 23,
   "metadata": {},
   "outputs": [
    {
     "name": "stdout",
     "output_type": "stream",
     "text": [
      "[9246, 3, 9, 822, 11, 3, 9, 2625, 7142, 6, 8, 2491, 19, 12, 2082, 823, 8, 2625, 7142, 2579, 8, 1525, 12, 8, 822, 5, 7142, 10, 196, 333, 25, 55, 1] 33\n",
      "torch.Size([16, 10, 768])\n"
     ]
    },
    {
     "data": {
      "text/plain": [
       "torch.Size([16, 43, 768])"
      ]
     },
     "execution_count": 23,
     "metadata": {},
     "output_type": "execute_result"
    }
   ],
   "source": [
    "import numpy as np\n",
    "import torch.nn as nn\n",
    "import torch\n",
    "prefix_dim = len(model_inputs['input_ids'])\n",
    "\n",
    "\n",
    "shared = nn.Embedding(30000, 768)\n",
    "prefix_shared = nn.Parameter(torch.zeros((prefix_dim, 768)))\n",
    "# indices = np.random.permutation(range(5000))[:prefix_dim]\n",
    "indices = model_inputs['input_ids']\n",
    "shared.weight.shape\n",
    "\n",
    "print(indices, prefix_dim)\n",
    "\n",
    "\n",
    "init_weight = shared.state_dict()[\n",
    "                \"weight\"][indices]\n",
    "# print(init_weight.shape)\n",
    "prefix_shared.data = init_weight.clone().detach()\n",
    "\n",
    "prefix_shared.data\n",
    "\n",
    "\n",
    "inputs_embeds = torch.rand(16, 10, 768)\n",
    "print(inputs_embeds.shape)\n",
    "inputs_embeds = torch.cat([prefix_shared.unsqueeze(0).repeat(\n",
    "                    inputs_embeds.shape[0], 1, 1), inputs_embeds], dim=1)\n",
    "inputs_embeds.shape"
   ]
  },
  {
   "cell_type": "code",
   "execution_count": 75,
   "metadata": {},
   "outputs": [
    {
     "name": "stdout",
     "output_type": "stream",
     "text": [
      "torch.Size([12, 2])\n",
      "torch.Size([12, 768])\n"
     ]
    }
   ],
   "source": [
    "import torch\n",
    "\n",
    "q = torch.randn(12,768)\n",
    "k = torch.randn(2,768).transpose(0,1)\n",
    "v = torch.randn(2,768)\n",
    "score = torch.matmul(q,k)\n",
    "print(score.shape)\n",
    "\n",
    "o = torch.matmul(score, v)\n",
    "print(o.shape)"
   ]
  },
  {
   "cell_type": "code",
   "execution_count": 73,
   "metadata": {},
   "outputs": [
    {
     "data": {
      "text/plain": [
       "tensor([ 0.5179,  1.1512, -1.2449,  1.1654, -0.0081, -1.5165,  0.6880, -0.7525,\n",
       "         0.0338,  1.3546, -0.0811,  0.5938,  0.7014, -1.1654,  0.9075, -0.5658,\n",
       "         0.5883,  0.4706, -0.2626, -0.5282, -0.1247,  0.2789,  1.1579,  0.4144,\n",
       "         0.8306,  0.1764, -0.2924, -0.1448,  0.9455, -1.1846, -1.9123, -1.3248,\n",
       "        -1.2095, -0.8503,  0.1216, -2.9493,  0.7450, -0.3030, -0.0480, -0.7447,\n",
       "         0.4423,  0.1080,  0.9750,  0.4162, -1.4857, -1.0951, -0.1703,  0.9099,\n",
       "         1.2162,  0.8580,  0.3220, -0.3006,  0.0605,  0.0405, -0.5971, -1.1596,\n",
       "        -0.1575, -0.0504,  0.1713, -3.4517, -0.0266,  1.0404, -0.4456,  1.0558,\n",
       "         0.5723,  0.5811, -0.2051, -2.7935, -1.0041,  0.5495,  1.3382,  0.8375,\n",
       "        -2.0622, -0.8512,  0.4207,  1.2977,  2.0883,  0.1503, -2.1810,  0.4034,\n",
       "         0.8343,  0.6502, -0.1412,  0.5254, -0.0167,  0.5114,  0.1894,  0.4083,\n",
       "        -0.0739,  0.8947, -0.7718, -0.6257,  0.3006, -0.2854,  1.1327,  0.4030,\n",
       "         0.9116,  1.1039,  1.3650, -0.5347, -0.5114,  0.2858, -0.6633,  0.7803,\n",
       "        -0.1727, -0.3474, -0.6875, -0.5088,  2.3690, -1.7793,  2.2165, -0.7063,\n",
       "         0.4550, -0.2083, -1.0597,  1.1908,  0.4523,  1.3596, -0.7123, -0.3006,\n",
       "        -0.3449,  0.0733, -0.8077,  0.1475, -1.6960,  0.8091,  0.0115, -0.4892,\n",
       "        -1.3575,  1.2146, -0.0145,  1.7830, -0.6802,  0.3753, -0.3537, -0.6953,\n",
       "        -1.0476, -1.2820,  0.6970,  0.8889,  0.2868, -1.1309, -0.6747, -0.1157,\n",
       "         0.2156,  0.1486,  2.5940, -0.8024,  0.3019,  1.4736, -0.0624, -0.5580,\n",
       "         0.1715, -1.5731,  0.5522,  0.2877, -0.6726, -0.4328,  1.0488, -1.3210,\n",
       "        -0.8975,  0.8872, -1.4636,  0.4343, -0.5630,  0.2221,  1.0180,  0.4968,\n",
       "         0.6566, -0.3015, -0.0677,  0.3517,  0.3575, -0.8627,  0.1951,  0.0824,\n",
       "         0.4363,  1.1591,  0.0536,  2.2483, -1.3283, -0.7996,  0.9614,  0.1358,\n",
       "        -0.7889, -0.3219, -1.2368, -0.0200,  0.5325, -0.2227, -0.0135, -1.1249,\n",
       "        -1.3161, -1.9928,  2.2414, -0.3704, -0.4236,  1.1445,  0.6672,  0.3028,\n",
       "        -1.2789, -1.1320, -2.2653,  0.6145,  0.3883, -1.3261, -0.3372, -0.9253,\n",
       "         0.3505, -0.1268, -0.2223, -1.1984, -0.9862,  2.0366, -0.1000, -0.1292,\n",
       "        -0.7825, -0.5148,  1.3031,  0.7864, -2.3591, -1.4005,  0.1713, -0.7181,\n",
       "         0.4134, -0.5594, -0.0725, -0.6498, -1.2884,  0.9302, -1.3373,  0.7082,\n",
       "        -0.9629, -0.3168, -0.2832, -1.2747,  1.1829,  1.1647, -2.2471,  0.2758,\n",
       "         0.1743, -1.6542, -0.9288,  0.4298, -0.5252, -0.0948,  0.0758, -0.4078,\n",
       "         1.6065,  0.0760,  0.8845,  1.5455,  0.4702,  0.2150, -1.3948, -2.0902,\n",
       "         0.0639, -0.5799,  0.9518,  1.3028, -0.4257, -0.2463, -0.5263,  0.5199,\n",
       "         0.3222,  0.2889, -1.9995, -1.3970, -1.3980, -0.4616, -1.8818,  0.6299,\n",
       "        -1.8558, -0.0233,  0.5267, -0.1926, -0.2866, -0.5321, -0.5831,  0.1234,\n",
       "        -0.8086, -0.6114,  1.0500, -1.2394, -1.7753,  0.1760, -0.5823,  1.0153,\n",
       "         0.2608,  0.3261,  0.6939,  1.4230,  0.8311,  0.9340, -0.7125, -1.8280,\n",
       "         1.4295,  0.2779,  0.4692,  1.2186,  0.1699, -0.3348,  0.2686,  0.2648,\n",
       "         1.5770, -0.0931, -0.9653, -0.7244,  1.3768,  0.1858, -1.5493,  0.3426,\n",
       "        -0.3216, -0.8779,  1.6378, -0.2022, -1.4242, -0.6375, -2.0239, -0.0061,\n",
       "        -0.0935, -1.5310, -0.3516, -0.9027, -0.2673,  0.4336, -1.9604, -1.7515,\n",
       "        -2.1138,  0.7900, -2.1337, -0.6902,  0.2518, -0.9179, -0.3121, -1.0046,\n",
       "        -1.6672, -1.5942,  0.4183,  0.1541,  0.4010,  0.1350, -0.7016, -0.6301,\n",
       "        -0.2183,  1.0227, -0.8919, -0.8730,  0.0754, -2.7034,  1.0351,  0.9879,\n",
       "        -0.0451, -0.5756, -0.1707,  2.2495, -0.1320,  0.2865, -0.1445, -0.7053,\n",
       "         0.8432, -0.0861,  0.4626, -1.2252,  1.6865,  0.1170,  2.1814,  1.2232,\n",
       "         0.1141, -1.0350,  0.3297, -1.2037,  0.3237,  0.4110,  0.1425, -0.4950,\n",
       "         0.7394, -0.8869,  1.1756, -1.1535,  0.1174,  1.2104,  1.1073, -0.0913,\n",
       "         0.5728, -0.6386,  0.5150, -1.1080,  1.2765, -0.8570,  0.0222, -0.0788,\n",
       "         1.5819,  0.0148,  1.8348,  0.5574,  1.0988, -2.4833,  0.9722, -0.8435,\n",
       "         0.9350,  0.5187, -0.3659, -0.6145, -0.5707, -0.9430,  1.3259,  1.2265,\n",
       "         0.4988, -0.0327, -0.1638,  0.1605,  0.8811,  0.3581, -1.4833, -1.5570,\n",
       "        -0.0521, -0.3960,  0.0395, -1.1689,  0.3477,  0.7772, -0.6394,  1.9569,\n",
       "         0.4289, -0.5856, -0.6521,  1.8453, -0.3916,  1.2596,  2.0821,  0.9273,\n",
       "         0.9162, -0.8817, -0.8370, -1.1944,  0.8396,  0.7979, -1.1308, -0.7737,\n",
       "        -0.8186, -0.4038,  0.7991,  0.1642, -1.0866, -1.5517, -0.1552,  1.0084,\n",
       "        -1.4583,  0.2998,  0.9319, -0.7697, -1.3301, -0.0356, -0.0365,  1.0992,\n",
       "        -0.3680,  1.0490,  0.9455,  0.3777,  2.0026,  0.5529,  0.2009,  0.9627,\n",
       "        -1.3969, -0.0603, -0.7055,  1.0793, -0.3719,  0.7261, -0.3540,  0.8996,\n",
       "        -0.9095,  0.2360,  0.2137,  0.3660, -0.1811, -0.5780, -0.0285,  0.2704,\n",
       "         1.7733,  0.9071,  0.2478,  0.9850, -0.6652,  0.0385, -0.0120,  0.4078,\n",
       "        -0.1369, -0.5744, -0.4104, -0.0847,  0.6268, -0.2373,  1.0376, -0.6093,\n",
       "         1.1561,  0.0350,  0.1629, -0.6356, -1.9234, -0.1237,  1.0122, -0.1906,\n",
       "         0.3472,  2.3866,  0.3654,  0.0964,  2.4139, -1.0476, -1.1309,  0.2767,\n",
       "         0.1986, -0.1025,  0.6642,  0.1813,  0.5310,  0.6272,  0.4842,  2.4258,\n",
       "        -1.5558,  0.1401, -1.6264,  0.1582, -0.8484, -0.1333, -1.3305,  0.7385,\n",
       "         0.3743, -0.0352, -1.8067,  0.4399, -0.2856, -0.6971,  0.4874,  0.7153,\n",
       "        -0.2008,  0.4239, -0.0349, -0.9780,  0.2600,  0.6950, -0.9031, -1.2137,\n",
       "         0.0566,  1.9005,  0.4170, -0.5209,  0.5214, -0.9946, -0.6223, -1.6492,\n",
       "         0.3410, -0.1698,  0.7159,  0.4018,  0.2699,  2.0268,  0.0684, -0.4395,\n",
       "        -0.4107, -1.1029,  0.6002,  0.3445, -1.3121, -0.6846, -0.1852, -1.3600,\n",
       "        -0.5364,  0.6624,  1.3867,  1.8603, -0.0426,  1.6677,  0.0564, -1.2027,\n",
       "         0.6544, -0.3596,  0.1767,  0.0710, -0.8784,  0.8054,  0.6103,  0.5811,\n",
       "         0.0535,  0.7196, -1.4985, -0.8730,  0.0063, -2.1534,  0.7577,  0.4829,\n",
       "         0.8815, -0.1817,  0.0469,  0.1076,  0.0044,  0.5587,  0.0620,  0.3534,\n",
       "        -1.4225,  0.2213, -0.3242,  0.9452, -0.4777,  0.2048, -0.0724, -0.1317,\n",
       "        -1.0446,  0.6346,  1.0345, -1.1611, -0.3672,  0.3095, -0.4198,  0.9916,\n",
       "         0.6429, -0.6956, -1.0850, -0.7266,  0.5609,  0.9760,  1.7273, -0.6604,\n",
       "        -0.1163, -1.1991, -1.9846, -0.8973,  1.3339,  0.7740, -0.6394,  0.5621,\n",
       "         1.7893, -0.6039,  1.0882,  1.1089, -0.0069, -1.2202,  1.1946, -0.1499,\n",
       "         0.4373,  0.3637, -0.0094, -1.3806, -0.8476,  2.3685,  1.0955, -1.3462,\n",
       "        -0.2752,  0.2277, -0.1992, -0.1958,  0.1122, -0.4624, -0.9798, -0.0176,\n",
       "         0.9988, -0.7756,  0.9665, -1.2510, -0.9539, -0.8704,  0.7117, -0.6189,\n",
       "         1.3244, -1.3987, -1.0552,  3.4266, -0.7658, -1.0754,  1.8914, -0.5933,\n",
       "         0.7242, -0.4914,  0.1035,  1.3296,  0.8032, -1.2309, -0.7387, -0.1959,\n",
       "        -0.3573, -0.1297, -0.4132,  1.0689,  0.0334,  0.9871, -0.5878,  0.7256,\n",
       "         1.5812, -0.8548, -1.3294, -1.3309,  0.6865,  0.0228,  1.7275,  0.1489,\n",
       "        -0.2275,  1.9385, -0.2665, -0.0550,  1.5179,  0.4261,  0.9827,  0.1824,\n",
       "        -0.8003, -1.1284, -2.0916, -0.0788,  0.9307,  0.5914, -1.3471,  0.8971,\n",
       "         1.2451, -0.7005,  0.6657,  0.5968,  0.3892, -0.4889, -1.2831, -0.8949,\n",
       "         1.0093,  1.6685,  1.0301,  0.5077,  1.3847,  0.2774, -0.1206, -1.2489,\n",
       "         1.1143, -0.1790,  0.1883,  0.3207, -0.8169,  2.0953, -0.7947, -1.4181,\n",
       "        -0.1290, -1.8373, -0.3136,  0.5256,  0.2467,  0.6683, -0.5372,  0.1924,\n",
       "         0.6635, -0.5271,  0.6471, -0.1426, -0.4275, -0.1409, -0.1142,  1.0889,\n",
       "         2.2082, -0.4907,  1.5546,  1.6745,  1.3561,  0.6905,  1.4881, -1.0228,\n",
       "        -0.1336,  0.9872, -0.0507, -0.4636, -0.3895,  1.9744, -0.9901,  0.1489])"
      ]
     },
     "execution_count": 73,
     "metadata": {},
     "output_type": "execute_result"
    }
   ],
   "source": [
    "task_embedding = nn.Parameter(torch.Tensor(torch.randn(768)))\n",
    "task_embedding.data"
   ]
  },
  {
   "cell_type": "code",
   "execution_count": null,
   "metadata": {},
   "outputs": [],
   "source": []
  }
 ],
 "metadata": {
  "fileId": "b1110c67-f08d-4807-bac5-97a9cee85a9e",
  "kernelspec": {
   "display_name": "Python 3.8.18 ('attempt_env')",
   "language": "python",
   "name": "python3"
  },
  "language_info": {
   "codemirror_mode": {
    "name": "ipython",
    "version": 3
   },
   "file_extension": ".py",
   "mimetype": "text/x-python",
   "name": "python",
   "nbconvert_exporter": "python",
   "pygments_lexer": "ipython3",
   "version": "3.8.18"
  },
  "orig_nbformat": 4,
  "vscode": {
   "interpreter": {
    "hash": "6e049aeb05306112ea1bcfc9abe07367b26b4c6a55b999ecd388f17ad162f926"
   }
  }
 },
 "nbformat": 4,
 "nbformat_minor": 2
}
