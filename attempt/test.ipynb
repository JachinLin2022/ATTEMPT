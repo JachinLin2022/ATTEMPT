{
 "cells": [
  {
   "cell_type": "code",
   "execution_count": null,
   "metadata": {},
   "outputs": [],
   "source": [
    "from datasets import load_dataset\n",
    "import os\n",
    "os.environ['http_proxy'] = 'http://127.0.0.1:7890'\n",
    "os.environ['https_proxy'] = 'http://127.0.0.1:7890'\n",
    "mrpc = load_dataset('squad')\n"
   ]
  },
  {
   "cell_type": "code",
   "execution_count": null,
   "metadata": {},
   "outputs": [],
   "source": [
    "from datasets import ClassLabel\n",
    "for key in mrpc.features:\n",
    "    if isinstance(mrpc.features[key],ClassLabel):\n",
    "        print(mrpc.features[key].names)\n",
    "# mrpc[0]['label'].names"
   ]
  },
  {
   "cell_type": "code",
   "execution_count": null,
   "metadata": {},
   "outputs": [],
   "source": [
    "import torch\n",
    "test = torch.load('/mlx_devbox/users/linzhisheng.2021/ATTEMPT/attempt/result/stage1/mnli_fp32/task_embedding.pt', map_location=torch.device('cpu'))\n",
    "input = torch.rand(44,768)\n",
    "\n",
    "x = torch.rand(128,44,768)\n",
    "print(x.shape[1] > 32)\n",
    "# print(x[:,0,:].unsqueeze(1))\n",
    "# print(x[:,:1,:])\n",
    "\n",
    "\n",
    "# task_list = torch.nn.ParameterList()\n",
    "# task_list.append(test['task_shared'])\n",
    "# task_list.append(test['task_shared'])\n",
    "# task_list\n",
    "\n",
    "# attention_embedding = torch.zeros_like(input)\n",
    "# for embedding in task_list:\n",
    "#     # print(embedding)\n",
    "#     dot = torch.matmul(input, embedding.transpose(0,1))\n",
    "#     prob = torch.nn.functional.softmax(dot,dim=-1)\n",
    "#     o = torch.matmul(prob, embedding)\n",
    "#     attention_embedding = attention_embedding + o\n",
    "\n",
    "\n",
    "# test['decoder.block.11.layer.2.DenseReluDense.wo.lora_B']"
   ]
  },
  {
   "cell_type": "code",
   "execution_count": null,
   "metadata": {},
   "outputs": [],
   "source": [
    "import torch.nn as nn\n",
    "import torch\n",
    "import numpy as np\n",
    "# t1= nn.Parameter(torch.zeros((64, 768)))\n",
    "# t2= nn.Parameter(torch.zeros((64, 768)))\n",
    "x = torch.randn(3,127)\n",
    "t1 = torch.randn(127,4)\n",
    "t2 = torch.randn(127,4)\n",
    "# a = torch.nn.functional.cosine_similarity(t1.flatten(),t2.flatten(),dim=0)\n",
    "print(x@t1)\n",
    "\n",
    "print(nn.LayerNorm(4)(x@t1))\n",
    "# print(x@t2)\n",
    "\n",
    "\n",
    "t = np.random.permutation(range(5000))\n",
    "t[4999]"
   ]
  },
  {
   "cell_type": "code",
   "execution_count": null,
   "metadata": {},
   "outputs": [],
   "source": [
    "import sklearn\n",
    "import sklearn.metrics\n",
    "t1 = ['asd']\n",
    "t2 = ['asd']\n",
    "sklearn.metrics.f1_score(t1,t2)"
   ]
  },
  {
   "cell_type": "code",
   "execution_count": null,
   "metadata": {},
   "outputs": [],
   "source": [
    "import torch\n",
    "from torch.nn.functional import softmax\n",
    "\n",
    "x = torch.randn(4,12,768)\n",
    "gate_x = x[:,0,:]\n",
    "w = torch.nn.Parameter(torch.randn(768, 6))\n",
    "\n",
    "test = x@w\n",
    "\n",
    "test[:,:,0] = test[:,:,0] + 999999999\n",
    "test[:,:,1:] = 0\n",
    "print(test.shape)\n",
    "print(test)\n",
    "\n",
    "\n",
    "w_noise = torch.nn.Parameter(torch.randn(768, 6))\n",
    "softplus = torch.nn.Softplus()\n",
    "softmax = torch.nn.Softmax(1)\n",
    "\n",
    "noise_epsilon = 1e-2\n",
    "\n",
    "\n",
    "\n",
    "\n",
    "clean_logits = gate_x@w\n",
    "\n",
    "\n",
    "\n",
    "raw_noise_stddev = gate_x @ w_noise\n",
    "noise_stddev = ((softplus(raw_noise_stddev) + noise_epsilon))\n",
    "noisy_logits = clean_logits + (torch.randn_like(clean_logits) * noise_stddev)\n",
    "\n",
    "\n",
    "\n",
    "logits = noisy_logits\n",
    "\n",
    "logits\n",
    "\n",
    "\n",
    "\n",
    "\n",
    "# logits = logits.sum(0)\n",
    "# print(logits)\n",
    "# logits = torch.nn.functional.softmax(logits)\n",
    "# print(logits)\n",
    "\n",
    "# print(torch.argmax(logits))\n",
    "# k=4\n",
    "# num_experts=6\n",
    "# top_logits, top_indices = logits.topk(min(k + 1, num_experts), dim=1)\n",
    "# top_k_logits = top_logits[:, :k]\n",
    "# top_k_indices = top_indices[:, :k]\n",
    "\n",
    "# top_k_gates = softmax(top_k_logits)\n",
    "# # print(top_k_indices)\n",
    "\n",
    "\n",
    "\n",
    "# zeros = torch.zeros_like(logits, requires_grad=True)\n",
    "# gates = zeros.scatter(1, top_k_indices, top_k_gates)\n",
    "# load = (gates>0).sum(0)\n",
    "# # print(gates)\n",
    "# # load\n",
    "# # (output>0).sum(0)\n",
    "\n",
    "\n",
    "\n",
    "# dispatcher = SparseDispatcher(num_experts, gates)\n",
    "\n",
    "# expert_inputs = dispatcher.dispatch(x)"
   ]
  },
  {
   "cell_type": "code",
   "execution_count": null,
   "metadata": {},
   "outputs": [],
   "source": [
    "import torch\n",
    "x = torch.randn(16,5,768)\n",
    "x = x.sum(dim=1)\n",
    "# x = x[:,0,:]\n",
    "x = x.unsqueeze(1)\n",
    "print(x.shape)\n",
    "# res = []\n",
    "# res.append(torch.randn(5,5,768))\n",
    "# res.append(torch.randn(5,5,768))\n",
    "# xx = torch.randn(5,1,2)\n",
    "\n",
    "# max_index = torch.argmax(xx,dim=2)\n",
    "# print(xx)\n",
    "# print(max_index)\n",
    "\n",
    "# result = torch.zeros_like(xx)\n",
    "# result.scatter_(2, max_index.unsqueeze(2), 1)\n",
    "# print(result)\n",
    "\n",
    "# xx[:,:,0] = 999999999\n",
    "# xx[:,:,1:] = 0\n",
    "\n",
    "# t = torch.nn.Softmax(dim=-1)\n",
    "# # x.shape\n",
    "# print(xx)\n",
    "\n",
    "# gg = t(xx).unsqueeze(3)\n",
    "\n",
    "\n",
    "# print(gg.shape)\n",
    "# output = torch.stack(res,dim=3) @ gg\n",
    "# output = output.squeeze()\n",
    "# print(res[0][0,0,0])\n",
    "# print(res[1][0,0,0])\n",
    "# print(output[0,0,0])\n",
    "# print(output)\n",
    "# print(gg.shape)\n",
    "# print(torch.stack(res,dim=3).shape)"
   ]
  },
  {
   "cell_type": "code",
   "execution_count": null,
   "metadata": {},
   "outputs": [],
   "source": [
    "from transformers import (\n",
    "    AutoTokenizer,\n",
    ")\n",
    "\n",
    "tokenizer = AutoTokenizer.from_pretrained('t5-base')\n",
    "tokenizer.add_special_tokens({'sep_token':'<eot>'})"
   ]
  },
  {
   "cell_type": "code",
   "execution_count": null,
   "metadata": {},
   "outputs": [],
   "source": [
    "model_inputs = tokenizer(\"Given a question and a context sentence, the task is to determine whether the context sentence contains the answer to the question.\")\n",
    "\n",
    "print(model_inputs)\n",
    "print(len(model_inputs['input_ids']))\n",
    "\n",
    "# model_inputs = tokenizer(\"sentence:I love you!\", max_length=128,\n",
    "#                                  padding=True, truncation=True)\n",
    "# model_inputs\n",
    "# tokenizer.sep_token_id\n"
   ]
  },
  {
   "cell_type": "code",
   "execution_count": null,
   "metadata": {},
   "outputs": [],
   "source": [
    "import numpy as np\n",
    "import torch.nn as nn\n",
    "import torch\n",
    "prefix_dim = len(model_inputs['input_ids'])\n",
    "\n",
    "\n",
    "shared = nn.Embedding(30000, 768)\n",
    "prefix_shared = nn.Parameter(torch.zeros((prefix_dim, 768)))\n",
    "# indices = np.random.permutation(range(5000))[:prefix_dim]\n",
    "indices = model_inputs['input_ids']\n",
    "shared.weight.shape\n",
    "\n",
    "print(indices, prefix_dim)\n",
    "\n",
    "\n",
    "init_weight = shared.state_dict()[\n",
    "                \"weight\"][indices]\n",
    "# print(init_weight.shape)\n",
    "prefix_shared.data = init_weight.clone().detach()\n",
    "\n",
    "prefix_shared.data\n",
    "\n",
    "\n",
    "inputs_embeds = torch.rand(16, 10, 768)\n",
    "print(inputs_embeds.shape)\n",
    "inputs_embeds = torch.cat([prefix_shared.unsqueeze(0).repeat(\n",
    "                    inputs_embeds.shape[0], 1, 1), inputs_embeds], dim=1)\n",
    "inputs_embeds.shape"
   ]
  },
  {
   "cell_type": "code",
   "execution_count": null,
   "metadata": {},
   "outputs": [],
   "source": [
    "import torch\n",
    "\n",
    "q = torch.randn(12,768)\n",
    "k = torch.randn(2,768).transpose(0,1)\n",
    "v = torch.randn(2,768)\n",
    "score = torch.matmul(q,k)\n",
    "print(score.shape)\n",
    "\n",
    "o = torch.matmul(score, v)\n",
    "print(o.shape)"
   ]
  },
  {
   "cell_type": "code",
   "execution_count": null,
   "metadata": {},
   "outputs": [],
   "source": [
    "task_embedding = nn.Parameter(torch.Tensor(torch.randn(768)))\n",
    "task_embedding.data"
   ]
  },
  {
   "cell_type": "code",
   "execution_count": 2,
   "metadata": {},
   "outputs": [
    {
     "name": "stderr",
     "output_type": "stream",
     "text": [
      "Using the latest cached version of the module from /home/linzhisheng/.cache/huggingface/modules/datasets_modules/datasets/mrqa/232de2be2563061edb2dc3a73abd0c1b6215f23093c218855816169bf8fd2685 (last modified on Sun Oct 22 16:10:25 2023) since it couldn't be found locally at mrqa/mrqa.py or remotely (ImportError).\n",
      "Reusing dataset mrqa (/home/linzhisheng/.cache/huggingface/datasets/mrqa/searchqa/1.0.0/232de2be2563061edb2dc3a73abd0c1b6215f23093c218855816169bf8fd2685)\n"
     ]
    },
    {
     "data": {
      "text/plain": [
       "Dataset({\n",
       "    features: ['subset', 'context', 'qid', 'idx', 'question', 'answers', 'answer'],\n",
       "    num_rows: 117384\n",
       "})"
      ]
     },
     "execution_count": 2,
     "metadata": {},
     "output_type": "execute_result"
    }
   ],
   "source": [
    "import datasets\n",
    "mrqa = datasets.load_dataset('mrqa','searchqa',split='train')\n"
   ]
  },
  {
   "cell_type": "code",
   "execution_count": 6,
   "metadata": {},
   "outputs": [
    {
     "data": {
      "text/plain": [
       "[1, 8, 0, 4, 5, 3, 2, 9, 6, 7]"
      ]
     },
     "execution_count": 6,
     "metadata": {},
     "output_type": "execute_result"
    }
   ],
   "source": [
    "import torch\n",
    "generator = torch.Generator()\n",
    "generator.manual_seed(420)\n",
    "res = torch.randperm(10, generator=generator).tolist()\n",
    "\n",
    "\n",
    "res"
   ]
  }
 ],
 "metadata": {
  "fileId": "b1110c67-f08d-4807-bac5-97a9cee85a9e",
  "kernelspec": {
   "display_name": "Python 3.8.18 ('attempt_env')",
   "language": "python",
   "name": "python3"
  },
  "language_info": {
   "codemirror_mode": {
    "name": "ipython",
    "version": 3
   },
   "file_extension": ".py",
   "mimetype": "text/x-python",
   "name": "python",
   "nbconvert_exporter": "python",
   "pygments_lexer": "ipython3",
   "version": "3.8.18"
  },
  "orig_nbformat": 4,
  "vscode": {
   "interpreter": {
    "hash": "6e049aeb05306112ea1bcfc9abe07367b26b4c6a55b999ecd388f17ad162f926"
   }
  }
 },
 "nbformat": 4,
 "nbformat_minor": 2
}
