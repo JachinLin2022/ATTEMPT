{
 "cells": [
  {
   "cell_type": "code",
   "execution_count": 30,
   "metadata": {},
   "outputs": [
    {
     "name": "stderr",
     "output_type": "stream",
     "text": [
      "Reusing dataset glue (/root/.cache/huggingface/datasets/glue/mrpc/1.0.0/dacbe3125aa31d7f70367a07a8a9e72a5a0bfeb5fc42e75c9db75b96da6053ad)\n"
     ]
    }
   ],
   "source": [
    "from datasets import load_dataset\n",
    "mrpc = load_dataset('glue', 'mrpc',split='test')\n"
   ]
  },
  {
   "cell_type": "code",
   "execution_count": 31,
   "metadata": {},
   "outputs": [
    {
     "name": "stdout",
     "output_type": "stream",
     "text": [
      "['not_equivalent', 'equivalent']\n"
     ]
    }
   ],
   "source": [
    "from datasets import ClassLabel\n",
    "for key in mrpc.features:\n",
    "    if isinstance(mrpc.features[key],ClassLabel):\n",
    "        print(mrpc.features[key].names)\n",
    "# mrpc[0]['label'].names"
   ]
  },
  {
   "cell_type": "code",
   "execution_count": null,
   "metadata": {},
   "outputs": [],
   "source": [
    "import torch\n",
    "test = torch.load('/mlx_devbox/users/linzhisheng.2021/ATTEMPT/attempt/outputs/lora_qnli/lora.pt', map_location=torch.device('cpu'))\n",
    "\n",
    "test.keys()\n",
    "test['decoder.block.11.layer.2.DenseReluDense.wo.lora_B']"
   ]
  },
  {
   "cell_type": "code",
   "execution_count": 3,
   "metadata": {},
   "outputs": [
    {
     "name": "stdout",
     "output_type": "stream",
     "text": [
      "tensor([[  0.6041,  -7.1097,   6.5655,  -3.0846],\n",
      "        [ -4.7148,   5.2828,   4.3676,  -2.3006],\n",
      "        [-10.4563,   1.5535,   7.8542,   7.6495]])\n",
      "tensor([[ 0.2704, -1.2629,  1.4553, -0.4628],\n",
      "        [-1.2598,  1.0841,  0.8696, -0.6938],\n",
      "        [-1.6285, -0.0130,  0.8345,  0.8070]],\n",
      "       grad_fn=<NativeLayerNormBackward0>)\n"
     ]
    },
    {
     "data": {
      "text/plain": [
       "1701"
      ]
     },
     "execution_count": 3,
     "metadata": {},
     "output_type": "execute_result"
    }
   ],
   "source": [
    "import torch.nn as nn\n",
    "import torch\n",
    "import numpy as np\n",
    "# t1= nn.Parameter(torch.zeros((64, 768)))\n",
    "# t2= nn.Parameter(torch.zeros((64, 768)))\n",
    "x = torch.randn(3,127)\n",
    "t1 = torch.randn(127,4)\n",
    "t2 = torch.randn(127,4)\n",
    "# a = torch.nn.functional.cosine_similarity(t1.flatten(),t2.flatten(),dim=0)\n",
    "print(x@t1)\n",
    "\n",
    "print(nn.LayerNorm(4)(x@t1))\n",
    "# print(x@t2)\n",
    "\n",
    "\n",
    "t = np.random.permutation(range(5000))\n",
    "t[4999]"
   ]
  },
  {
   "cell_type": "code",
   "execution_count": 5,
   "metadata": {},
   "outputs": [
    {
     "name": "stderr",
     "output_type": "stream",
     "text": [
      "/root/miniconda3/envs/attempt_env/lib/python3.8/site-packages/numpy/lib/arraysetops.py:608: FutureWarning: elementwise comparison failed; returning scalar instead, but in the future will perform elementwise comparison\n",
      "  mask &= (ar1 != a)\n",
      "/root/miniconda3/envs/attempt_env/lib/python3.8/site-packages/scikit_learn-0.24.2-py3.8-linux-x86_64.egg/sklearn/metrics/_classification.py:1495: UndefinedMetricWarning: F-score is ill-defined and being set to 0.0 due to no true nor predicted samples. Use `zero_division` parameter to control this behavior.\n",
      "  _warn_prf(\n"
     ]
    },
    {
     "data": {
      "text/plain": [
       "0.0"
      ]
     },
     "execution_count": 5,
     "metadata": {},
     "output_type": "execute_result"
    }
   ],
   "source": [
    "import sklearn\n",
    "import sklearn.metrics\n",
    "t1 = ['asd']\n",
    "t2 = ['asd']\n",
    "sklearn.metrics.f1_score(t1,t2)"
   ]
  },
  {
   "cell_type": "code",
   "execution_count": 8,
   "metadata": {},
   "outputs": [
    {
     "name": "stdout",
     "output_type": "stream",
     "text": [
      "torch.Size([4, 12, 6])\n",
      "tensor([[[1.0000e+09, 0.0000e+00, 0.0000e+00, 0.0000e+00, 0.0000e+00,\n",
      "          0.0000e+00],\n",
      "         [1.0000e+09, 0.0000e+00, 0.0000e+00, 0.0000e+00, 0.0000e+00,\n",
      "          0.0000e+00],\n",
      "         [1.0000e+09, 0.0000e+00, 0.0000e+00, 0.0000e+00, 0.0000e+00,\n",
      "          0.0000e+00],\n",
      "         [1.0000e+09, 0.0000e+00, 0.0000e+00, 0.0000e+00, 0.0000e+00,\n",
      "          0.0000e+00],\n",
      "         [1.0000e+09, 0.0000e+00, 0.0000e+00, 0.0000e+00, 0.0000e+00,\n",
      "          0.0000e+00],\n",
      "         [1.0000e+09, 0.0000e+00, 0.0000e+00, 0.0000e+00, 0.0000e+00,\n",
      "          0.0000e+00],\n",
      "         [1.0000e+09, 0.0000e+00, 0.0000e+00, 0.0000e+00, 0.0000e+00,\n",
      "          0.0000e+00],\n",
      "         [1.0000e+09, 0.0000e+00, 0.0000e+00, 0.0000e+00, 0.0000e+00,\n",
      "          0.0000e+00],\n",
      "         [1.0000e+09, 0.0000e+00, 0.0000e+00, 0.0000e+00, 0.0000e+00,\n",
      "          0.0000e+00],\n",
      "         [1.0000e+09, 0.0000e+00, 0.0000e+00, 0.0000e+00, 0.0000e+00,\n",
      "          0.0000e+00],\n",
      "         [1.0000e+09, 0.0000e+00, 0.0000e+00, 0.0000e+00, 0.0000e+00,\n",
      "          0.0000e+00],\n",
      "         [1.0000e+09, 0.0000e+00, 0.0000e+00, 0.0000e+00, 0.0000e+00,\n",
      "          0.0000e+00]],\n",
      "\n",
      "        [[1.0000e+09, 0.0000e+00, 0.0000e+00, 0.0000e+00, 0.0000e+00,\n",
      "          0.0000e+00],\n",
      "         [1.0000e+09, 0.0000e+00, 0.0000e+00, 0.0000e+00, 0.0000e+00,\n",
      "          0.0000e+00],\n",
      "         [1.0000e+09, 0.0000e+00, 0.0000e+00, 0.0000e+00, 0.0000e+00,\n",
      "          0.0000e+00],\n",
      "         [1.0000e+09, 0.0000e+00, 0.0000e+00, 0.0000e+00, 0.0000e+00,\n",
      "          0.0000e+00],\n",
      "         [1.0000e+09, 0.0000e+00, 0.0000e+00, 0.0000e+00, 0.0000e+00,\n",
      "          0.0000e+00],\n",
      "         [1.0000e+09, 0.0000e+00, 0.0000e+00, 0.0000e+00, 0.0000e+00,\n",
      "          0.0000e+00],\n",
      "         [1.0000e+09, 0.0000e+00, 0.0000e+00, 0.0000e+00, 0.0000e+00,\n",
      "          0.0000e+00],\n",
      "         [1.0000e+09, 0.0000e+00, 0.0000e+00, 0.0000e+00, 0.0000e+00,\n",
      "          0.0000e+00],\n",
      "         [1.0000e+09, 0.0000e+00, 0.0000e+00, 0.0000e+00, 0.0000e+00,\n",
      "          0.0000e+00],\n",
      "         [1.0000e+09, 0.0000e+00, 0.0000e+00, 0.0000e+00, 0.0000e+00,\n",
      "          0.0000e+00],\n",
      "         [1.0000e+09, 0.0000e+00, 0.0000e+00, 0.0000e+00, 0.0000e+00,\n",
      "          0.0000e+00],\n",
      "         [1.0000e+09, 0.0000e+00, 0.0000e+00, 0.0000e+00, 0.0000e+00,\n",
      "          0.0000e+00]],\n",
      "\n",
      "        [[1.0000e+09, 0.0000e+00, 0.0000e+00, 0.0000e+00, 0.0000e+00,\n",
      "          0.0000e+00],\n",
      "         [1.0000e+09, 0.0000e+00, 0.0000e+00, 0.0000e+00, 0.0000e+00,\n",
      "          0.0000e+00],\n",
      "         [1.0000e+09, 0.0000e+00, 0.0000e+00, 0.0000e+00, 0.0000e+00,\n",
      "          0.0000e+00],\n",
      "         [1.0000e+09, 0.0000e+00, 0.0000e+00, 0.0000e+00, 0.0000e+00,\n",
      "          0.0000e+00],\n",
      "         [1.0000e+09, 0.0000e+00, 0.0000e+00, 0.0000e+00, 0.0000e+00,\n",
      "          0.0000e+00],\n",
      "         [1.0000e+09, 0.0000e+00, 0.0000e+00, 0.0000e+00, 0.0000e+00,\n",
      "          0.0000e+00],\n",
      "         [1.0000e+09, 0.0000e+00, 0.0000e+00, 0.0000e+00, 0.0000e+00,\n",
      "          0.0000e+00],\n",
      "         [1.0000e+09, 0.0000e+00, 0.0000e+00, 0.0000e+00, 0.0000e+00,\n",
      "          0.0000e+00],\n",
      "         [1.0000e+09, 0.0000e+00, 0.0000e+00, 0.0000e+00, 0.0000e+00,\n",
      "          0.0000e+00],\n",
      "         [1.0000e+09, 0.0000e+00, 0.0000e+00, 0.0000e+00, 0.0000e+00,\n",
      "          0.0000e+00],\n",
      "         [1.0000e+09, 0.0000e+00, 0.0000e+00, 0.0000e+00, 0.0000e+00,\n",
      "          0.0000e+00],\n",
      "         [1.0000e+09, 0.0000e+00, 0.0000e+00, 0.0000e+00, 0.0000e+00,\n",
      "          0.0000e+00]],\n",
      "\n",
      "        [[1.0000e+09, 0.0000e+00, 0.0000e+00, 0.0000e+00, 0.0000e+00,\n",
      "          0.0000e+00],\n",
      "         [1.0000e+09, 0.0000e+00, 0.0000e+00, 0.0000e+00, 0.0000e+00,\n",
      "          0.0000e+00],\n",
      "         [1.0000e+09, 0.0000e+00, 0.0000e+00, 0.0000e+00, 0.0000e+00,\n",
      "          0.0000e+00],\n",
      "         [1.0000e+09, 0.0000e+00, 0.0000e+00, 0.0000e+00, 0.0000e+00,\n",
      "          0.0000e+00],\n",
      "         [1.0000e+09, 0.0000e+00, 0.0000e+00, 0.0000e+00, 0.0000e+00,\n",
      "          0.0000e+00],\n",
      "         [1.0000e+09, 0.0000e+00, 0.0000e+00, 0.0000e+00, 0.0000e+00,\n",
      "          0.0000e+00],\n",
      "         [1.0000e+09, 0.0000e+00, 0.0000e+00, 0.0000e+00, 0.0000e+00,\n",
      "          0.0000e+00],\n",
      "         [1.0000e+09, 0.0000e+00, 0.0000e+00, 0.0000e+00, 0.0000e+00,\n",
      "          0.0000e+00],\n",
      "         [1.0000e+09, 0.0000e+00, 0.0000e+00, 0.0000e+00, 0.0000e+00,\n",
      "          0.0000e+00],\n",
      "         [1.0000e+09, 0.0000e+00, 0.0000e+00, 0.0000e+00, 0.0000e+00,\n",
      "          0.0000e+00],\n",
      "         [1.0000e+09, 0.0000e+00, 0.0000e+00, 0.0000e+00, 0.0000e+00,\n",
      "          0.0000e+00],\n",
      "         [1.0000e+09, 0.0000e+00, 0.0000e+00, 0.0000e+00, 0.0000e+00,\n",
      "          0.0000e+00]]], grad_fn=<CopySlices>)\n"
     ]
    },
    {
     "data": {
      "text/plain": [
       "tensor([[-38.0970, -10.4717, -60.2004, -17.5134,  26.7224, -25.1057],\n",
       "        [ 17.2692,  29.1443, -34.3721,   9.5295,  -6.5533,  15.3158],\n",
       "        [ 10.8645, -16.4372,  13.4175, -14.6265, -26.2576,  -8.9261],\n",
       "        [-26.7573,   4.3462, -19.2858,  29.9002, -34.1080, -23.1021]],\n",
       "       grad_fn=<AddBackward0>)"
      ]
     },
     "execution_count": 8,
     "metadata": {},
     "output_type": "execute_result"
    }
   ],
   "source": [
    "import torch\n",
    "from torch.nn.functional import softmax\n",
    "\n",
    "x = torch.randn(4,12,768)\n",
    "gate_x = x[:,0,:]\n",
    "w = torch.nn.Parameter(torch.randn(768, 6))\n",
    "\n",
    "test = x@w\n",
    "\n",
    "test[:,:,0] = test[:,:,0] + 999999999\n",
    "test[:,:,1:] = 0\n",
    "print(test.shape)\n",
    "print(test)\n",
    "\n",
    "\n",
    "w_noise = torch.nn.Parameter(torch.randn(768, 6))\n",
    "softplus = torch.nn.Softplus()\n",
    "softmax = torch.nn.Softmax(1)\n",
    "\n",
    "noise_epsilon = 1e-2\n",
    "\n",
    "\n",
    "\n",
    "\n",
    "clean_logits = gate_x@w\n",
    "\n",
    "\n",
    "\n",
    "raw_noise_stddev = gate_x @ w_noise\n",
    "noise_stddev = ((softplus(raw_noise_stddev) + noise_epsilon))\n",
    "noisy_logits = clean_logits + (torch.randn_like(clean_logits) * noise_stddev)\n",
    "\n",
    "\n",
    "\n",
    "logits = noisy_logits\n",
    "\n",
    "logits\n",
    "\n",
    "\n",
    "\n",
    "\n",
    "# logits = logits.sum(0)\n",
    "# print(logits)\n",
    "# logits = torch.nn.functional.softmax(logits)\n",
    "# print(logits)\n",
    "\n",
    "# print(torch.argmax(logits))\n",
    "# k=4\n",
    "# num_experts=6\n",
    "# top_logits, top_indices = logits.topk(min(k + 1, num_experts), dim=1)\n",
    "# top_k_logits = top_logits[:, :k]\n",
    "# top_k_indices = top_indices[:, :k]\n",
    "\n",
    "# top_k_gates = softmax(top_k_logits)\n",
    "# # print(top_k_indices)\n",
    "\n",
    "\n",
    "\n",
    "# zeros = torch.zeros_like(logits, requires_grad=True)\n",
    "# gates = zeros.scatter(1, top_k_indices, top_k_gates)\n",
    "# load = (gates>0).sum(0)\n",
    "# # print(gates)\n",
    "# # load\n",
    "# # (output>0).sum(0)\n",
    "\n",
    "\n",
    "\n",
    "# dispatcher = SparseDispatcher(num_experts, gates)\n",
    "\n",
    "# expert_inputs = dispatcher.dispatch(x)"
   ]
  },
  {
   "cell_type": "code",
   "execution_count": 7,
   "metadata": {},
   "outputs": [
    {
     "name": "stdout",
     "output_type": "stream",
     "text": [
      "torch.Size([16, 1, 768])\n"
     ]
    }
   ],
   "source": [
    "import torch\n",
    "x = torch.randn(16,5,768)\n",
    "x = x.sum(dim=1)\n",
    "# x = x[:,0,:]\n",
    "x = x.unsqueeze(1)\n",
    "print(x.shape)\n",
    "# res = []\n",
    "# res.append(torch.randn(5,5,768))\n",
    "# res.append(torch.randn(5,5,768))\n",
    "# xx = torch.randn(5,1,2)\n",
    "\n",
    "# max_index = torch.argmax(xx,dim=2)\n",
    "# print(xx)\n",
    "# print(max_index)\n",
    "\n",
    "# result = torch.zeros_like(xx)\n",
    "# result.scatter_(2, max_index.unsqueeze(2), 1)\n",
    "# print(result)\n",
    "\n",
    "# xx[:,:,0] = 999999999\n",
    "# xx[:,:,1:] = 0\n",
    "\n",
    "# t = torch.nn.Softmax(dim=-1)\n",
    "# # x.shape\n",
    "# print(xx)\n",
    "\n",
    "# gg = t(xx).unsqueeze(3)\n",
    "\n",
    "\n",
    "# print(gg.shape)\n",
    "# output = torch.stack(res,dim=3) @ gg\n",
    "# output = output.squeeze()\n",
    "# print(res[0][0,0,0])\n",
    "# print(res[1][0,0,0])\n",
    "# print(output[0,0,0])\n",
    "# print(output)\n",
    "# print(gg.shape)\n",
    "# print(torch.stack(res,dim=3).shape)"
   ]
  },
  {
   "cell_type": "code",
   "execution_count": null,
   "metadata": {},
   "outputs": [],
   "source": []
  },
  {
   "cell_type": "code",
   "execution_count": null,
   "metadata": {},
   "outputs": [],
   "source": []
  }
 ],
 "metadata": {
  "fileId": "b1110c67-f08d-4807-bac5-97a9cee85a9e",
  "kernelspec": {
   "display_name": "Python 3.8.18 ('attempt_env')",
   "language": "python",
   "name": "python3"
  },
  "language_info": {
   "codemirror_mode": {
    "name": "ipython",
    "version": 3
   },
   "file_extension": ".py",
   "mimetype": "text/x-python",
   "name": "python",
   "nbconvert_exporter": "python",
   "pygments_lexer": "ipython3",
   "version": "3.8.18"
  },
  "orig_nbformat": 4,
  "vscode": {
   "interpreter": {
    "hash": "6e049aeb05306112ea1bcfc9abe07367b26b4c6a55b999ecd388f17ad162f926"
   }
  }
 },
 "nbformat": 4,
 "nbformat_minor": 2
}
