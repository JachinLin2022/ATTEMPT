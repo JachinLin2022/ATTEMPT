{
 "cells": [
  {
   "cell_type": "code",
   "execution_count": null,
   "metadata": {},
   "outputs": [],
   "source": [
    "from datasets import load_dataset\n",
    "mrpc = load_dataset('glue', 'mrpc', script_version=\"master\")\n",
    "mrpc\n",
    "\n",
    "\n",
    "from transformers import T5ForConditionalGeneration,T5Model"
   ]
  },
  {
   "cell_type": "code",
   "execution_count": null,
   "metadata": {},
   "outputs": [],
   "source": [
    "import torch\n",
    "lora_dict = torch.load('/mlx_devbox/users/linzhisheng.2021/ATTEMPT/attempt/outputs/lora/pytorch_model.bin', map_location=torch.device('cpu'))\n",
    "\n",
    "\n",
    "print(lora_dict)\n",
    "\n"
   ]
  },
  {
   "cell_type": "code",
   "execution_count": 46,
   "metadata": {},
   "outputs": [
    {
     "name": "stdout",
     "output_type": "stream",
     "text": [
      "encoder.block.0.layer.1.DenseReluDense.wi.weight tensor([[ 0.1434,  0.1963, -0.0368,  ...,  0.4928, -0.1723,  0.0048],\n",
      "        [ 0.1951, -0.1751, -0.6519,  ..., -0.6255,  0.1332, -0.4499],\n",
      "        [-0.1292,  0.1082, -0.1376,  ...,  0.2967, -0.1191,  0.0063],\n",
      "        ...,\n",
      "        [ 0.5555, -0.4951, -0.0063,  ..., -0.3699,  0.6350, -0.3813],\n",
      "        [ 0.3053, -0.0576,  0.2650,  ...,  0.4730, -0.5499, -0.7927],\n",
      "        [ 0.1196, -0.3631,  0.1581,  ...,  0.2577, -0.3358, -0.1690]])\n"
     ]
    }
   ],
   "source": [
    "\n",
    "test = torch.load('/root/.cache/huggingface/transformers/ab4e948915b067f5cb6e5105f6f85044fd717b133f43240db67899a8fc7b29a2.26934c75adf19ceac3c268b721ba353356b7609c45f5627550326f275a2163b4', map_location=torch.device('cpu'))\n",
    "test.keys()\n",
    "\n",
    "for k,v in lora_dict.items():\n",
    "    if  k=='encoder.block.0.layer.1.DenseReluDense.wi.weight' and not torch.equal(v, test[k]):\n",
    "        \n",
    "        print(k,v)"
   ]
  },
  {
   "cell_type": "code",
   "execution_count": 38,
   "metadata": {},
   "outputs": [
    {
     "data": {
      "text/plain": [
       "dict_keys(['encoder.block.0.layer.1.DenseReluDense.wi.lora_A', 'encoder.block.0.layer.1.DenseReluDense.wi.lora_B', 'encoder.block.0.layer.1.DenseReluDense.wo.lora_A', 'encoder.block.0.layer.1.DenseReluDense.wo.lora_B', 'encoder.block.1.layer.1.DenseReluDense.wi.lora_A', 'encoder.block.1.layer.1.DenseReluDense.wi.lora_B', 'encoder.block.1.layer.1.DenseReluDense.wo.lora_A', 'encoder.block.1.layer.1.DenseReluDense.wo.lora_B', 'encoder.block.2.layer.1.DenseReluDense.wi.lora_A', 'encoder.block.2.layer.1.DenseReluDense.wi.lora_B', 'encoder.block.2.layer.1.DenseReluDense.wo.lora_A', 'encoder.block.2.layer.1.DenseReluDense.wo.lora_B', 'encoder.block.3.layer.1.DenseReluDense.wi.lora_A', 'encoder.block.3.layer.1.DenseReluDense.wi.lora_B', 'encoder.block.3.layer.1.DenseReluDense.wo.lora_A', 'encoder.block.3.layer.1.DenseReluDense.wo.lora_B', 'encoder.block.4.layer.1.DenseReluDense.wi.lora_A', 'encoder.block.4.layer.1.DenseReluDense.wi.lora_B', 'encoder.block.4.layer.1.DenseReluDense.wo.lora_A', 'encoder.block.4.layer.1.DenseReluDense.wo.lora_B', 'encoder.block.5.layer.1.DenseReluDense.wi.lora_A', 'encoder.block.5.layer.1.DenseReluDense.wi.lora_B', 'encoder.block.5.layer.1.DenseReluDense.wo.lora_A', 'encoder.block.5.layer.1.DenseReluDense.wo.lora_B', 'encoder.block.6.layer.1.DenseReluDense.wi.lora_A', 'encoder.block.6.layer.1.DenseReluDense.wi.lora_B', 'encoder.block.6.layer.1.DenseReluDense.wo.lora_A', 'encoder.block.6.layer.1.DenseReluDense.wo.lora_B', 'encoder.block.7.layer.1.DenseReluDense.wi.lora_A', 'encoder.block.7.layer.1.DenseReluDense.wi.lora_B', 'encoder.block.7.layer.1.DenseReluDense.wo.lora_A', 'encoder.block.7.layer.1.DenseReluDense.wo.lora_B', 'encoder.block.8.layer.1.DenseReluDense.wi.lora_A', 'encoder.block.8.layer.1.DenseReluDense.wi.lora_B', 'encoder.block.8.layer.1.DenseReluDense.wo.lora_A', 'encoder.block.8.layer.1.DenseReluDense.wo.lora_B', 'encoder.block.9.layer.1.DenseReluDense.wi.lora_A', 'encoder.block.9.layer.1.DenseReluDense.wi.lora_B', 'encoder.block.9.layer.1.DenseReluDense.wo.lora_A', 'encoder.block.9.layer.1.DenseReluDense.wo.lora_B', 'encoder.block.10.layer.1.DenseReluDense.wi.lora_A', 'encoder.block.10.layer.1.DenseReluDense.wi.lora_B', 'encoder.block.10.layer.1.DenseReluDense.wo.lora_A', 'encoder.block.10.layer.1.DenseReluDense.wo.lora_B', 'encoder.block.11.layer.1.DenseReluDense.wi.lora_A', 'encoder.block.11.layer.1.DenseReluDense.wi.lora_B', 'encoder.block.11.layer.1.DenseReluDense.wo.lora_A', 'encoder.block.11.layer.1.DenseReluDense.wo.lora_B', 'decoder.block.0.layer.2.DenseReluDense.wi.lora_A', 'decoder.block.0.layer.2.DenseReluDense.wi.lora_B', 'decoder.block.0.layer.2.DenseReluDense.wo.lora_A', 'decoder.block.0.layer.2.DenseReluDense.wo.lora_B', 'decoder.block.1.layer.2.DenseReluDense.wi.lora_A', 'decoder.block.1.layer.2.DenseReluDense.wi.lora_B', 'decoder.block.1.layer.2.DenseReluDense.wo.lora_A', 'decoder.block.1.layer.2.DenseReluDense.wo.lora_B', 'decoder.block.2.layer.2.DenseReluDense.wi.lora_A', 'decoder.block.2.layer.2.DenseReluDense.wi.lora_B', 'decoder.block.2.layer.2.DenseReluDense.wo.lora_A', 'decoder.block.2.layer.2.DenseReluDense.wo.lora_B', 'decoder.block.3.layer.2.DenseReluDense.wi.lora_A', 'decoder.block.3.layer.2.DenseReluDense.wi.lora_B', 'decoder.block.3.layer.2.DenseReluDense.wo.lora_A', 'decoder.block.3.layer.2.DenseReluDense.wo.lora_B', 'decoder.block.4.layer.2.DenseReluDense.wi.lora_A', 'decoder.block.4.layer.2.DenseReluDense.wi.lora_B', 'decoder.block.4.layer.2.DenseReluDense.wo.lora_A', 'decoder.block.4.layer.2.DenseReluDense.wo.lora_B', 'decoder.block.5.layer.2.DenseReluDense.wi.lora_A', 'decoder.block.5.layer.2.DenseReluDense.wi.lora_B', 'decoder.block.5.layer.2.DenseReluDense.wo.lora_A', 'decoder.block.5.layer.2.DenseReluDense.wo.lora_B', 'decoder.block.6.layer.2.DenseReluDense.wi.lora_A', 'decoder.block.6.layer.2.DenseReluDense.wi.lora_B', 'decoder.block.6.layer.2.DenseReluDense.wo.lora_A', 'decoder.block.6.layer.2.DenseReluDense.wo.lora_B', 'decoder.block.7.layer.2.DenseReluDense.wi.lora_A', 'decoder.block.7.layer.2.DenseReluDense.wi.lora_B', 'decoder.block.7.layer.2.DenseReluDense.wo.lora_A', 'decoder.block.7.layer.2.DenseReluDense.wo.lora_B', 'decoder.block.8.layer.2.DenseReluDense.wi.lora_A', 'decoder.block.8.layer.2.DenseReluDense.wi.lora_B', 'decoder.block.8.layer.2.DenseReluDense.wo.lora_A', 'decoder.block.8.layer.2.DenseReluDense.wo.lora_B', 'decoder.block.9.layer.2.DenseReluDense.wi.lora_A', 'decoder.block.9.layer.2.DenseReluDense.wi.lora_B', 'decoder.block.9.layer.2.DenseReluDense.wo.lora_A', 'decoder.block.9.layer.2.DenseReluDense.wo.lora_B', 'decoder.block.10.layer.2.DenseReluDense.wi.lora_A', 'decoder.block.10.layer.2.DenseReluDense.wi.lora_B', 'decoder.block.10.layer.2.DenseReluDense.wo.lora_A', 'decoder.block.10.layer.2.DenseReluDense.wo.lora_B', 'decoder.block.11.layer.2.DenseReluDense.wi.lora_A', 'decoder.block.11.layer.2.DenseReluDense.wi.lora_B', 'decoder.block.11.layer.2.DenseReluDense.wo.lora_A', 'decoder.block.11.layer.2.DenseReluDense.wo.lora_B'])"
      ]
     },
     "execution_count": 38,
     "metadata": {},
     "output_type": "execute_result"
    }
   ],
   "source": [
    "test = torch.load('/mlx_devbox/users/linzhisheng.2021/ATTEMPT/attempt/outputs/lora/lora.pt', map_location=torch.device('cpu'))\n",
    "\n",
    "test.keys()"
   ]
  }
 ],
 "metadata": {
  "fileId": "b1110c67-f08d-4807-bac5-97a9cee85a9e",
  "kernelspec": {
   "display_name": "Python 3.8.18 ('attempt_env')",
   "language": "python",
   "name": "python3"
  },
  "language_info": {
   "codemirror_mode": {
    "name": "ipython",
    "version": 3
   },
   "file_extension": ".py",
   "mimetype": "text/x-python",
   "name": "python",
   "nbconvert_exporter": "python",
   "pygments_lexer": "ipython3",
   "version": "3.8.18"
  },
  "orig_nbformat": 4,
  "vscode": {
   "interpreter": {
    "hash": "6e049aeb05306112ea1bcfc9abe07367b26b4c6a55b999ecd388f17ad162f926"
   }
  }
 },
 "nbformat": 4,
 "nbformat_minor": 2
}
